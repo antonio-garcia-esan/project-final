{
 "cells": [
  {
   "cell_type": "code",
   "execution_count": 0,
   "metadata": {
    "application/vnd.databricks.v1+cell": {
     "cellMetadata": {
      "byteLimit": 2048000,
      "rowLimit": 10000
     },
     "inputWidgets": {},
     "nuid": "7daad162-7287-4536-bd39-1aeb8348381a",
     "showTitle": false,
     "tableResultSettingsMap": {},
     "title": ""
    }
   },
   "outputs": [],
   "source": [
    "%pip install econdata"
   ]
  },
  {
   "cell_type": "code",
   "execution_count": 0,
   "metadata": {
    "application/vnd.databricks.v1+cell": {
     "cellMetadata": {
      "byteLimit": 2048000,
      "rowLimit": 10000
     },
     "inputWidgets": {},
     "nuid": "af0708bd-938e-45fe-8cd3-954e0b842752",
     "showTitle": false,
     "tableResultSettingsMap": {},
     "title": ""
    }
   },
   "outputs": [],
   "source": [
    "from econdata import BCRP\n",
    "\n",
    "BCRP.search(\n",
    "    consulta=['PBI'],\n",
    "    grupo=['Producto', 'variaciones'],\n",
    "    frecuencia='Trimestral'\n",
    ")"
   ]
  },
  {
   "cell_type": "code",
   "execution_count": 0,
   "metadata": {
    "application/vnd.databricks.v1+cell": {
     "cellMetadata": {
      "byteLimit": 2048000,
      "rowLimit": 10000
     },
     "inputWidgets": {},
     "nuid": "f2500a7d-85a5-413d-b420-f92fda70a1cd",
     "showTitle": false,
     "tableResultSettingsMap": {},
     "title": ""
    }
   },
   "outputs": [],
   "source": [
    "df = BCRP.get_data(\n",
    "    series={'PN02526AQ':'PBI'},\n",
    "    fechaini='2000Q1',\n",
    "    fechafin='2024Q4'\n",
    ")\n",
    "\n",
    "df"
   ]
  },
  {
   "cell_type": "code",
   "execution_count": 0,
   "metadata": {
    "application/vnd.databricks.v1+cell": {
     "cellMetadata": {
      "byteLimit": 2048000,
      "rowLimit": 10000
     },
     "inputWidgets": {},
     "nuid": "3baf13d3-e9c1-403e-8f8d-0d3078527664",
     "showTitle": false,
     "tableResultSettingsMap": {},
     "title": ""
    }
   },
   "outputs": [],
   "source": [
    "from econdata import WB\n",
    "\n",
    "WB.search(\n",
    "    consulta=['gdp', 'per', 'capita']\n",
    ")"
   ]
  },
  {
   "cell_type": "code",
   "execution_count": 0,
   "metadata": {
    "application/vnd.databricks.v1+cell": {
     "cellMetadata": {
      "byteLimit": 2048000,
      "rowLimit": 10000
     },
     "inputWidgets": {},
     "nuid": "c38a97bd-7042-4e84-8516-73d72582e2cb",
     "showTitle": false,
     "tableResultSettingsMap": {},
     "title": ""
    }
   },
   "outputs": [],
   "source": [
    "df = WB.get_data(\n",
    "    countries = {\n",
    "        'CO': 'Colombia',\n",
    "        'CL': 'Chile',\n",
    "        'PE': 'Perú'\n",
    "    },\n",
    "    indicators = {\n",
    "        'NY.GDP.PCAP.PP.KD': 'Real GDP per capita'\n",
    "    },\n",
    "    fechaini = '2012',\n",
    "    fechafin = '2024'\n",
    ")\n",
    "\n",
    "df"
   ]
  },
  {
   "cell_type": "code",
   "execution_count": 0,
   "metadata": {
    "application/vnd.databricks.v1+cell": {
     "cellMetadata": {
      "byteLimit": 2048000,
      "rowLimit": 10000
     },
     "inputWidgets": {},
     "nuid": "a224b762-a5a6-4b4b-a9e5-3a9dbbccd06b",
     "showTitle": false,
     "tableResultSettingsMap": {},
     "title": ""
    }
   },
   "outputs": [],
   "source": [
    "\"\"\"\n",
    "Algoritmo para estimar TENDENCIAS de largo plazo y pronosticar PBI e Inflación\n",
    "para países de Sudamérica. Diseñado para usarse con datos obtenidos vía `econdata`\n",
    "(u otras fuentes), en Databricks o local.\n",
    "\n",
    "Enfoque principal:\n",
    "- Descomposición por modelo estructural (State Space) con tendencia local (local linear trend)\n",
    "  usando `statsmodels.tsa.statespace.UnobservedComponents`.\n",
    "- Opción alternativa: filtro de Hodrick–Prescott (HP) para estimar la tendencia suave.\n",
    "- Forecast de la TENDENCIA (no del ciclo/ruido) para horizontes anuales o trimestrales.\n",
    "\n",
    "Indicadores sugeridos (World Bank / práctica común):\n",
    "- PBI (nivel real): NY.GDP.MKTP.KD (GDP, constant 2015 US$)  — tendencia sobre log.\n",
    "- PBI crecimiento %: NY.GDP.MKTP.KD.ZG (GDP growth, annual %).\n",
    "- Inflación %: FP.CPI.TOTL.ZG (Inflation, consumer prices, annual %).\n",
    "\n",
    "Países (ISO3): ARG, BOL, BRA, CHL, COL, ECU, GUY, PER, PRY, SUR, URY, VEN.\n",
    "\n",
    "NOTA IMPORTANTE:\n",
    "- Este script es independiente de `econdata`. Incluye un bloque opcional para descargar\n",
    "  con `econdata` (comentado), ya que la estructura exacta de funciones puede variar por versión.\n",
    "  Si ya tienes tus DataFrames (p.ej. desde `econdata` o CSVs), basta con pasarlos a\n",
    "  `run_pipeline(...)` en el formato especificado.\n",
    "\n",
    "Requisitos:\n",
    "  pip install pandas numpy statsmodels matplotlib\n",
    "  (econdata es OPCIONAL si vas a descargar en vivo)\n",
    "\"\"\"\n",
    "\n",
    "from __future__ import annotations\n",
    "import math\n",
    "from dataclasses import dataclass\n",
    "from typing import Dict, List, Optional, Tuple\n",
    "\n",
    "import numpy as np\n",
    "import pandas as pd\n",
    "import matplotlib.pyplot as plt\n",
    "from statsmodels.tsa.statespace.structural import UnobservedComponents\n",
    "from statsmodels.tsa.filters.hp_filter import hpfilter\n",
    "\n",
    "# =============================================================\n",
    "# 1) Utilidades para ESTRUCTURA DE DATOS\n",
    "# -------------------------------------------------------------\n",
    "# Se espera un DataFrame con las columnas: [\"date\", \"value\", \"country\", \"series\"]\n",
    "# - date: Periodo (\"YYYY\" para anual, \"YYYY-Qn\" para trimestral, o datetime64)\n",
    "# - value: valor numérico de la métrica\n",
    "# - country: código ISO3 del país\n",
    "# - series: nombre/código del indicador (ej. \"GDP_const2015USD\", \"Inflation_yoy\")\n",
    "# =============================================================\n",
    "\n",
    "\n",
    "def ensure_period_index(df: pd.DataFrame, freq: str) -> pd.DataFrame:\n",
    "    \"\"\"Asegura que 'date' sea un PeriodIndex con frecuencia freq ('A' anual, 'Q' trimestral, 'M' mensual).\n",
    "    Devuelve df ordenado por date.\n",
    "    \"\"\"\n",
    "    out = df.copy()\n",
    "    if np.issubdtype(out[\"date\"].dtype, np.datetime64):\n",
    "        out[\"date\"] = out[\"date\"].dt.to_period(freq)\n",
    "    else:\n",
    "        # Intentar parsear strings: \"YYYY\", \"YYYY-Qn\", etc.\n",
    "        out[\"date\"] = out[\"date\"].astype(str)\n",
    "        if freq.upper() == \"A\":\n",
    "            out[\"date\"] = pd.PeriodIndex(out[\"date\"], freq=\"A\")\n",
    "        elif freq.upper() == \"Q\":\n",
    "            # Acepta formatos tipo \"2020Q1\" o \"2020-Q1\" o \"2020-Q1\"\n",
    "            out[\"date\"] = out[\"date\"].str.replace(\"-\", \"\", regex=False).str.replace(\" \", \"\", regex=False)\n",
    "            out[\"date\"] = out[\"date\"].str.replace(\"Q\", \"Q\", regex=False)\n",
    "            # Normalizar a YYYYQn\n",
    "            out[\"date\"] = out[\"date\"].str.replace(r\"(\\d{4})[\\-\\s]?Q(\\d)\", r\"\\1Q\\2\", regex=True)\n",
    "            out[\"date\"] = pd.PeriodIndex(out[\"date\"], freq=\"Q\")\n",
    "        elif freq.upper() == \"M\":\n",
    "            # Espera \"YYYY-MM\"\n",
    "            out[\"date\"] = pd.PeriodIndex(out[\"date\"], freq=\"M\")\n",
    "        else:\n",
    "            raise ValueError(f\"Frecuencia no soportada: {freq}\")\n",
    "    return out.sort_values(\"date\").reset_index(drop=True)\n",
    "\n",
    "\n",
    "# =============================================================\n",
    "# 2) MODELOS DE TENDENCIA: UCM (Local Linear Trend) y HP filter\n",
    "# =============================================================\n",
    "\n",
    "@dataclass\n",
    "class TrendResult:\n",
    "    country: str\n",
    "    series: str\n",
    "    freq: str\n",
    "    fitted_trend: pd.Series\n",
    "    forecast_trend: pd.Series\n",
    "    model_summary: Optional[str] = None\n",
    "\n",
    "\n",
    "def fit_ucm_trend(y: pd.Series, freq: str, seasonal: bool = False, seasonal_periods: Optional[int] = None,\n",
    "                  future_periods: int = 5) -> Tuple[pd.Series, pd.Series, str]:\n",
    "    \"\"\"\n",
    "    Ajusta un modelo estructural con tendencia local (local linear trend).\n",
    "    - y: Serie indexada por PeriodIndex.\n",
    "    - seasonal: True si se desea componente estacional (para mensual/trimestral).\n",
    "    - seasonal_periods: p.ej. 12 (mensual), 4 (trimestral). Si None, se infiere de 'freq'.\n",
    "    - future_periods: horizonte de pronóstico en cantidad de períodos de la frecuencia.\n",
    "    Return: (trend_in_sample, trend_forecast, summary_str)\n",
    "    \"\"\"\n",
    "    if seasonal and seasonal_periods is None:\n",
    "        seasonal_periods = 12 if freq.upper() == \"M\" else 4 if freq.upper() == \"Q\" else None\n",
    "\n",
    "    # El componente de tendencia local ya captura tendencia suave.\n",
    "    mod = UnobservedComponents(endog=y.astype(float), level=\"llevel\", trend=True,\n",
    "                               seasonal=seasonal_periods if seasonal and seasonal_periods else None,\n",
    "                               freq_seasonal=None)\n",
    "    res = mod.fit(disp=False)\n",
    "\n",
    "    # Tendencia filtrada in-sample\n",
    "    trend_fitted = res.level.smoothed\n",
    "    # Forecast de la serie (incluye tendencia + otros compon.), pero usamos la tendencia esperada\n",
    "    # Para extraer la componente de nivel futuro, generamos el pronóstico y tomamos el nivel pronosticado\n",
    "    y_fore = res.get_forecast(steps=future_periods)\n",
    "    # El resultado de nivel futuro se aproxima por la media del pronóstico cuando el resto es bajo;\n",
    "    # alternativamente, podemos prolongar el estado de nivel directamente.\n",
    "    # Usaremos la media pronosticada como proxy de tendencia de largo plazo.\n",
    "    trend_fore = y_fore.predicted_mean\n",
    "\n",
    "    return trend_fitted, trend_fore, res.summary().as_text()\n",
    "\n",
    "\n",
    "def hp_trend(y: pd.Series, lamb: Optional[float] = None, freq: str = \"A\") -> pd.Series:\n",
    "    \"\"\"Estimación de tendencia con filtro HP. El lambda sugerido por frecuencia:\n",
    "    - Anual: 6.25\n",
    "    - Trimestral: 1600\n",
    "    - Mensual: 129600\n",
    "    \"\"\"\n",
    "    if lamb is None:\n",
    "        lamb = 6.25 if freq.upper() == \"A\" else 1600 if freq.upper() == \"Q\" else 129600\n",
    "    cycle, trend = hpfilter(y.astype(float), lamb=lamb)\n",
    "    return trend\n",
    "\n",
    "\n",
    "# =============================================================\n",
    "# 3) PIPELINE MULTIPAÍS / MULTISERIE\n",
    "# =============================================================\n",
    "\n",
    "SOUTH_AMERICA_ISO3 = [\"ARG\",\"BOL\",\"BRA\",\"CHL\",\"COL\",\"ECU\",\"GUY\",\"PER\",\"PRY\",\"SUR\",\"URY\",\"VEN\"]\n",
    "\n",
    "\n",
    "def prepare_panel(df: pd.DataFrame, freq: str) -> pd.DataFrame:\n",
    "    df = ensure_period_index(df, freq)\n",
    "    # Chequeo básico de duplicados\n",
    "    df = df.drop_duplicates(subset=[\"country\",\"series\",\"date\"]).copy()\n",
    "    # Ordenamos\n",
    "    df = df.sort_values([\"series\",\"country\",\"date\"]).reset_index(drop=True)\n",
    "    return df\n",
    "\n",
    "\n",
    "def run_trend_for_group(df: pd.DataFrame, freq: str, method: str = \"ucm\", horizon: int = 5,\n",
    "                        seasonal: bool = False, seasonal_periods: Optional[int] = None) -> List[TrendResult]:\n",
    "    results: List[TrendResult] = []\n",
    "    df = prepare_panel(df, freq)\n",
    "\n",
    "    for (cc, ss), g in df.groupby([\"country\",\"series\"], sort=False):\n",
    "        y = g.set_index(\"date\")[\"value\"].astype(float)\n",
    "        if method == \"ucm\":\n",
    "            trend_in, trend_fc, summ = fit_ucm_trend(y, freq=freq, seasonal=seasonal,\n",
    "                                                     seasonal_periods=seasonal_periods, future_periods=horizon)\n",
    "        elif method == \"hp\":\n",
    "            trend_in = hp_trend(y, freq=freq)\n",
    "            # Forecast naive sobre tendencia final (random walk sobre nivel):\n",
    "            last = trend_in.iloc[-1]\n",
    "            idx_fc = pd.period_range(start=y.index[-1]+1, periods=horizon, freq=y.index.freq)\n",
    "            trend_fc = pd.Series([last]*horizon, index=idx_fc)\n",
    "            summ = f\"HP filter lambda auto, freq={freq}\"\n",
    "        else:\n",
    "            raise ValueError(\"method debe ser 'ucm' o 'hp'\")\n",
    "\n",
    "        results.append(TrendResult(country=cc, series=ss, freq=freq,\n",
    "                                   fitted_trend=trend_in, forecast_trend=trend_fc,\n",
    "                                   model_summary=summ))\n",
    "    return results\n",
    "\n",
    "\n",
    "# =============================================================\n",
    "# 4) PLOTEO Y EXPORTACIÓN\n",
    "# =============================================================\n",
    "\n",
    "\n",
    "def plot_trend(result: TrendResult, original: pd.Series, title_prefix: str = \"\"):\n",
    "    def to_ts(idx):\n",
    "        # Convertir PeriodIndex a DatetimeIndex si aplica\n",
    "        if hasattr(idx, \"to_timestamp\"):\n",
    "            try:\n",
    "                return idx.to_timestamp()\n",
    "            except Exception:\n",
    "                return idx\n",
    "        return idx\n",
    "    \n",
    "    # Serie original asegurada\n",
    "    orig_ts = pd.Series(original.values, index=to_ts(original.index))\n",
    "\n",
    "    # Fitted trend\n",
    "    if isinstance(result.fitted_trend, np.ndarray):\n",
    "        trend_in_ts = pd.Series(result.fitted_trend, index=orig_ts.index)\n",
    "    else:\n",
    "        trend_in_ts = result.fitted_trend\n",
    "        trend_in_ts.index = to_ts(trend_in_ts.index)\n",
    "\n",
    "    # Forecast trend\n",
    "    if isinstance(result.forecast_trend, np.ndarray):\n",
    "        # Construir índice de forecast extendiendo el último del original\n",
    "        last_date = orig_ts.index[-1]\n",
    "        horizon = len(result.forecast_trend)\n",
    "        if isinstance(last_date, pd.Period):\n",
    "            fc_index = pd.period_range(last_date+1, periods=horizon, freq=last_date.freq).to_timestamp()\n",
    "        else:\n",
    "            fc_index = pd.date_range(start=last_date + pd.offsets.YearEnd(), periods=horizon, freq=\"A\")\n",
    "        trend_fc_ts = pd.Series(result.forecast_trend, index=fc_index)\n",
    "    else:\n",
    "        trend_fc_ts = result.forecast_trend\n",
    "        trend_fc_ts.index = to_ts(trend_fc_ts.index)\n",
    "\n",
    "    # Plot\n",
    "    plt.figure(figsize=(10,5))\n",
    "    plt.plot(orig_ts.index, orig_ts.values, label=\"Serie original\", linewidth=1.2, alpha=0.6)\n",
    "    plt.plot(trend_in_ts.index, trend_in_ts.values, label=\"Tendencia (in-sample)\", linewidth=2)\n",
    "    plt.plot(trend_fc_ts.index, trend_fc_ts.values, label=\"Tendencia (forecast)\", linestyle=\"--\")\n",
    "    plt.title(f\"{title_prefix}{result.series} - {result.country}\")\n",
    "    plt.legend()\n",
    "    plt.grid(True, alpha=0.25)\n",
    "    plt.tight_layout()\n",
    "    plt.show()\n",
    "\n",
    "\n",
    "\n",
    "\n",
    "# =============================================================\n",
    "# 5) EJEMPLO DE USO\n",
    "# =============================================================\n",
    "\n",
    "\"\"\"\n",
    "EJEMPLO 1: Suponiendo que ya tienes data ANUAL en un DataFrame con columnas\n",
    "[date, value, country, series] para Sudamérica (p.ej. PBI real e Inflación).\n",
    "\n",
    "# df = pd.read_csv(\"panel_sudamerica.csv\")\n",
    "# df = prepare_panel(df, freq=\"A\")\n",
    "# results = run_trend_for_group(df, freq=\"A\", method=\"ucm\", horizon=5)\n",
    "# -- Visualizar un país/serie --\n",
    "# g = df.query(\"country=='PER' and series=='GDP_const2015USD'\").set_index(\"date\")[\"value\"]\n",
    "# per_gdp_res = [r for r in results if r.country==\"PER\" and r.series==\"GDP_const2015USD\"][0]\n",
    "# plot_trend(per_gdp_res, g, title_prefix=\"Tendencia de largo plazo: \")\n",
    "\n",
    "EJEMPLO 2 (OPCIONAL): Descarga con econdata (verifica firma exacta de tu versión).\n",
    "Descomenta y ajusta según tu versión de econdata. La idea es obtener un DataFrame con el formato requerido.\n",
    "\"\"\"\n",
    "\n",
    "# from econdata import WB\n",
    "# \n",
    "# # Indicadores WB sugeridos\n",
    "# WB_GDP_LEVEL = \"NY.GDP.MKTP.KD\"      # GDP, constant 2015 US$\n",
    "# WB_INFLATION = \"FP.CPI.TOTL.ZG\"      # Inflation, consumer prices (annual %)\n",
    "# \n",
    "# COUNTRIES = SOUTH_AMERICA_ISO3\n",
    "# START, END = \"2000\", \"2024\"\n",
    "# \n",
    "# # --- PSEUDOCÓDIGO (ajustar a tu versión de econdata): ---\n",
    "# gdp_df = WB.get_data(series={WB_GDP_LEVEL: \"GDP_const2015USD\"},\n",
    "#                      countries=COUNTRIES, fechaini=START, fechafin=END,\n",
    "#                      periodicidad=\"anual\")\n",
    "# infl_df = WB.get_data(series={WB_INFLATION: \"Inflation_yoy\"},\n",
    "#                       countries=COUNTRIES, fechaini=START, fechafin=END,\n",
    "#                       periodicidad=\"anual\")\n",
    "# \n",
    "# # Normaliza a formato estándar\n",
    "# def normalize_wb(df_raw: pd.DataFrame, value_col: str, series_name: str) -> pd.DataFrame:\n",
    "#     # Adapta estos nombres de columnas a lo que retorne tu econdata.\n",
    "#     out = df_raw.rename(columns={\"anio\": \"date\", value_col: \"value\", \"pais\": \"country\"})\n",
    "#     out[\"series\"] = series_name\n",
    "#     return out[[\"date\",\"value\",\"country\",\"series\"]]\n",
    "# \n",
    "# gdp_panel = normalize_wb(gdp_df, value_col=\"valor\", series_name=\"GDP_const2015USD\")\n",
    "# infl_panel = normalize_wb(infl_df, value_col=\"valor\", series_name=\"Inflation_yoy\")\n",
    "# panel = pd.concat([gdp_panel, infl_panel], ignore_index=True)\n",
    "# \n",
    "# # Si el PBI está en nivel, suele ser útil trabajar en log para tendencia (opcional):\n",
    "# panel.loc[panel[\"series\"]==\"GDP_const2015USD\", \"value\"] = (\n",
    "#     np.log(panel.loc[panel[\"series\"]==\"GDP_const2015USD\", \"value\"].astype(float))\n",
    "# )\n",
    "# \n",
    "# # Ejecutar pipeline anual y pronosticar 5 años\n",
    "# results = run_trend_for_group(panel, freq=\"A\", method=\"ucm\", horizon=5)\n",
    "# \n",
    "# # Ejemplo de plot para Perú - PBI\n",
    "# per_gdp = panel.query(\"country=='PER' and series=='GDP_const2015USD'\").set_index(\"date\")[\"value\"].astype(float)\n",
    "# per_res = [r for r in results if r.country==\"PER\" and r.series==\"GDP_const2015USD\"][0]\n",
    "# plot_trend(per_res, per_gdp, title_prefix=\"Tendencia de largo plazo: \")\n",
    "\n",
    "\"\"\"\n",
    "Notas y RECOMENDACIONES:\n",
    "- Para PBI en nivel: use log antes de modelar tendencia. Interprete el forecast en log y re-exponencie si necesita el nivel.\n",
    "- Para Inflación (ya está en %): modele la serie directamente, o aplique suavizado previo si hay outliers.\n",
    "- Falta de datos/NA: considere imputación lineal por país antes de ajustar el modelo.\n",
    "- Trimestral/mensual: active `seasonal=True` y defina `seasonal_periods` (4 o 12) en `run_trend_for_group`.\n",
    "- Validación: reserve las últimas k observaciones para evaluar MAE/MAPE del trend-forecast.\n",
    "- Comparabilidad: la TENDENCIA es un concepto suave; no es un pronóstico de corto plazo. Úselo para planes estratégicos.\n",
    "\"\"\"\n"
   ]
  },
  {
   "cell_type": "code",
   "execution_count": 0,
   "metadata": {
    "application/vnd.databricks.v1+cell": {
     "cellMetadata": {
      "byteLimit": 2048000,
      "rowLimit": 10000
     },
     "inputWidgets": {},
     "nuid": "696aca31-bb26-4bd0-8a8e-ce668a5598a7",
     "showTitle": false,
     "tableResultSettingsMap": {},
     "title": ""
    }
   },
   "outputs": [],
   "source": [
    "from econdata import WB\n",
    "import pandas as pd\n",
    "import numpy as np\n",
    "\n",
    "# Indicadores del World Bank\n",
    "WB_GDP_LEVEL = \"NY.GDP.MKTP.KD\"   # GDP (constant 2015 US$)\n",
    "WB_INFLATION = \"FP.CPI.TOTL.ZG\"  # Inflation, consumer prices (annual %)\n",
    "\n",
    "# Países\n",
    "countries = {\"PE\": \"Perú\", \"CL\": \"Chile\", \"CO\": \"Colombia\"}\n",
    "\n",
    "start, end = \"2000\", \"2025\"\n",
    "\n",
    "# Descarga datos\n",
    "gdp_df = WB.get_data(countries=countries,\n",
    "                     indicators={WB_GDP_LEVEL: \"GDP_const2015USD\"},\n",
    "                     fechaini=start, fechafin=end)\n",
    "\n",
    "infl_df = WB.get_data(countries=countries,\n",
    "                      indicators={WB_INFLATION: \"Inflation_yoy\"},\n",
    "                      fechaini=start, fechafin=end)\n",
    "\n",
    "print(\"PBI:\\n\", gdp_df.head())\n",
    "print(\"Inflación:\\n\", infl_df.head())"
   ]
  },
  {
   "cell_type": "code",
   "execution_count": 0,
   "metadata": {
    "application/vnd.databricks.v1+cell": {
     "cellMetadata": {
      "byteLimit": 2048000,
      "rowLimit": 10000
     },
     "inputWidgets": {},
     "nuid": "0efc45f5-57ad-4938-b1dd-4900ad61e46e",
     "showTitle": false,
     "tableResultSettingsMap": {},
     "title": ""
    }
   },
   "outputs": [],
   "source": [
    "import pandas as pd\n",
    "\n",
    "def normalize_pivoted(df_raw: pd.DataFrame, series_name: str) -> pd.DataFrame:\n",
    "    # Resetear el índice (time -> columna)\n",
    "    df = df_raw.reset_index().rename(columns={\"time\": \"date\"})\n",
    "    \n",
    "    # Derretir columnas de países a filas\n",
    "    df_long = df.melt(id_vars=\"date\", var_name=\"country\", value_name=\"value\")\n",
    "    \n",
    "    # Agregar nombre de la serie\n",
    "    df_long[\"series\"] = series_name\n",
    "    return df_long[[\"date\", \"value\", \"country\", \"series\"]]\n",
    "\n",
    "# Ejemplo para tu gdp_df\n",
    "gdp_panel = normalize_pivoted(gdp_df, \"GDP_const2015USD\")\n",
    "print(gdp_panel.head())\n"
   ]
  },
  {
   "cell_type": "code",
   "execution_count": 0,
   "metadata": {
    "application/vnd.databricks.v1+cell": {
     "cellMetadata": {
      "byteLimit": 2048000,
      "rowLimit": 10000
     },
     "inputWidgets": {},
     "nuid": "b7ea3a80-5cdd-439d-9f6a-f88691c23beb",
     "showTitle": false,
     "tableResultSettingsMap": {},
     "title": ""
    }
   },
   "outputs": [],
   "source": [
    "infl_panel = normalize_pivoted(infl_df, \"Inflation_yoy\")\n",
    "print(gdp_panel.head())"
   ]
  },
  {
   "cell_type": "code",
   "execution_count": 0,
   "metadata": {
    "application/vnd.databricks.v1+cell": {
     "cellMetadata": {
      "byteLimit": 2048000,
      "rowLimit": 10000
     },
     "inputWidgets": {},
     "nuid": "9c48c67e-80c3-42a9-a391-9e55890912d1",
     "showTitle": false,
     "tableResultSettingsMap": {},
     "title": ""
    }
   },
   "outputs": [],
   "source": [
    "panel = pd.concat([gdp_panel, infl_panel], ignore_index=True)\n",
    "\n",
    "# Log-transformar el PBI\n",
    "import numpy as np\n",
    "panel.loc[panel[\"series\"]==\"GDP_const2015USD\",\"value\"] = np.log(\n",
    "    panel.loc[panel[\"series\"]==\"GDP_const2015USD\",\"value\"].astype(float)\n",
    ")\n",
    "\n",
    "print(panel.head())"
   ]
  },
  {
   "cell_type": "code",
   "execution_count": 0,
   "metadata": {
    "application/vnd.databricks.v1+cell": {
     "cellMetadata": {
      "byteLimit": 2048000,
      "rowLimit": 10000
     },
     "inputWidgets": {},
     "nuid": "4bfbf172-7ffe-487d-82e6-74761bb05ba9",
     "showTitle": false,
     "tableResultSettingsMap": {},
     "title": ""
    }
   },
   "outputs": [],
   "source": [
    "# Filtrar PBI\n",
    "pbi_df = panel[panel[\"series\"] == \"GDP_const2015USD\"].copy()\n",
    "\n",
    "# Filtrar Inflación\n",
    "inflacion_df = panel[panel[\"series\"] == \"Inflation_yoy\"].copy()\n",
    "\n",
    "pbi_sdf = spark.createDataFrame(pbi_df)\n",
    "inflacion_sdf = spark.createDataFrame(inflacion_df)\n",
    "\n",
    "# Guardar PBI\n",
    "pbi_sdf.write.format(\"delta\").mode(\"overwrite\").saveAsTable(\"esan_202502.economia.pbi\")\n",
    "\n",
    "# Guardar Inflación\n",
    "inflacion_sdf.write.format(\"delta\").mode(\"overwrite\").saveAsTable(\"esan_202502.economia.inflacion\")\n"
   ]
  },
  {
   "cell_type": "code",
   "execution_count": 0,
   "metadata": {
    "application/vnd.databricks.v1+cell": {
     "cellMetadata": {
      "byteLimit": 2048000,
      "rowLimit": 10000
     },
     "inputWidgets": {},
     "nuid": "1cd6f28b-6984-44e4-9a4c-4f72e023d036",
     "showTitle": false,
     "tableResultSettingsMap": {},
     "title": ""
    }
   },
   "outputs": [],
   "source": [
    "results = run_trend_for_group(panel, freq=\"A\", method=\"ucm\", horizon=5)"
   ]
  },
  {
   "cell_type": "code",
   "execution_count": 0,
   "metadata": {
    "application/vnd.databricks.v1+cell": {
     "cellMetadata": {
      "byteLimit": 2048000,
      "rowLimit": 10000
     },
     "inputWidgets": {},
     "nuid": "4868fe73-9f75-44e3-aaf0-90a7b199c153",
     "showTitle": false,
     "tableResultSettingsMap": {},
     "title": ""
    }
   },
   "outputs": [],
   "source": [
    "# Convertir columna date a datetime (ej. años -> 2000-01-01)\n",
    "panel[\"date\"] = pd.to_datetime(panel[\"date\"], format=\"%Y\")\n",
    "panel[\"date\"] = panel[\"date\"].dt.to_period(\"A\")"
   ]
  },
  {
   "cell_type": "code",
   "execution_count": 0,
   "metadata": {
    "application/vnd.databricks.v1+cell": {
     "cellMetadata": {
      "byteLimit": 2048000,
      "rowLimit": 10000
     },
     "inputWidgets": {},
     "nuid": "fd1a9263-55e3-40d5-b77f-24dc4d72d978",
     "showTitle": false,
     "tableResultSettingsMap": {},
     "title": ""
    }
   },
   "outputs": [],
   "source": [
    "# Serie original corregida\n",
    "per_gdp = panel.query(\"country == 'Perú' and series == 'GDP_const2015USD'\")\n",
    "per_gdp = per_gdp.set_index(\"date\")[\"value\"].astype(float)\n",
    "\n",
    "# Resultado del modelo\n",
    "per_res = [r for r in results if r.country == \"Perú\" and r.series == \"GDP_const2015USD\"][0]\n",
    "\n",
    "# Ahora sí graficar\n",
    "plot_trend(per_res, per_gdp, title_prefix=\"Tendencia de largo plazo: \")\n"
   ]
  }
 ],
 "metadata": {
  "application/vnd.databricks.v1+notebook": {
   "computePreferences": null,
   "dashboards": [],
   "environmentMetadata": {
    "base_environment": "",
    "environment_version": "3"
   },
   "inputWidgetPreferences": null,
   "language": "python",
   "notebookMetadata": {
    "pythonIndentUnit": 4
   },
   "notebookName": "PBI_Predict",
   "widgets": {}
  },
  "language_info": {
   "name": "python"
  }
 },
 "nbformat": 4,
 "nbformat_minor": 0
}
