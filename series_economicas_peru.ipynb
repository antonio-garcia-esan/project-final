{
 "cells": [
  {
   "cell_type": "code",
   "execution_count": 0,
   "metadata": {
    "application/vnd.databricks.v1+cell": {
     "cellMetadata": {
      "byteLimit": 2048000,
      "rowLimit": 10000
     },
     "inputWidgets": {},
     "nuid": "dfedb52c-a418-45c7-977c-a83569235297",
     "showTitle": false,
     "tableResultSettingsMap": {},
     "title": ""
    }
   },
   "outputs": [],
   "source": [
    "# Databricks notebook PySpark\n",
    "# Proyecto: Automatización de series económicas del Perú\n",
    "\n",
    "# =======================\n",
    "# Celda 1: Instalar dependencias\n",
    "# =======================\n",
    "# Databricks notebook PySpark\n",
    "%pip install econdata scikit-learn mlflow"
   ]
  },
  {
   "cell_type": "code",
   "execution_count": 0,
   "metadata": {
    "application/vnd.databricks.v1+cell": {
     "cellMetadata": {
      "byteLimit": 2048000,
      "rowLimit": 10000
     },
     "inputWidgets": {},
     "nuid": "2b77138b-e1fa-413f-91b9-1afb6df42487",
     "showTitle": false,
     "tableResultSettingsMap": {},
     "title": ""
    }
   },
   "outputs": [],
   "source": [
    "dbutils.library.restartPython()"
   ]
  },
  {
   "cell_type": "code",
   "execution_count": 0,
   "metadata": {
    "application/vnd.databricks.v1+cell": {
     "cellMetadata": {
      "byteLimit": 2048000,
      "rowLimit": 10000
     },
     "inputWidgets": {},
     "nuid": "8d498545-4b4d-46c9-9e75-b692f8335794",
     "showTitle": false,
     "tableResultSettingsMap": {},
     "title": ""
    }
   },
   "outputs": [],
   "source": [
    "import pandas as pd\n",
    "from econdata import BCRP\n",
    "from sklearn.model_selection import train_test_split\n",
    "from sklearn.linear_model import LinearRegression\n",
    "from sklearn.metrics import mean_squared_error, r2_score\n",
    "import mlflow\n",
    "import mlflow.sklearn\n"
   ]
  },
  {
   "cell_type": "code",
   "execution_count": 0,
   "metadata": {
    "application/vnd.databricks.v1+cell": {
     "cellMetadata": {
      "byteLimit": 2048000,
      "rowLimit": 10000
     },
     "inputWidgets": {},
     "nuid": "9198e19d-babe-4247-bf5e-a84a4b8010ad",
     "showTitle": false,
     "tableResultSettingsMap": {},
     "title": ""
    }
   },
   "outputs": [],
   "source": [
    "# Buscar series disponibles (opcional, para explorar)\n",
    "BCRP.search(\n",
    "    consulta=['PBI'],\n",
    "    grupo=['Producto', 'variaciones'],\n",
    "    frecuencia='Trimestral'\n",
    ")\n",
    "\n",
    "# Descargar serie de PIB (ejemplo: PN02526AQ = PIB)\n",
    "df_pib = BCRP.get_data(\n",
    "    series={'PN02526AQ': 'PIB'},\n",
    "    fechaini='2000Q1',\n",
    "    fechafin='2024Q4'\n",
    ")\n",
    "\n",
    "# Ajustar índice\n",
    "df_pib.index = pd.PeriodIndex(df_pib.index, freq=\"Q\").to_timestamp()\n",
    "df_pib = df_pib.rename(columns={\"PIB\":\"PIB_PEN\"}).dropna()\n",
    "\n",
    "display(df_pib.head())\n"
   ]
  },
  {
   "cell_type": "code",
   "execution_count": 0,
   "metadata": {
    "application/vnd.databricks.v1+cell": {
     "cellMetadata": {
      "byteLimit": 2048000,
      "rowLimit": 10000
     },
     "inputWidgets": {},
     "nuid": "b576b35e-544a-4e33-b83d-0b79517363e0",
     "showTitle": false,
     "tableResultSettingsMap": {},
     "title": ""
    }
   },
   "outputs": [],
   "source": [
    "# Creamos variables rezagadas para modelar dependencia temporal\n",
    "df_ml = df_pib.copy()\n",
    "df_ml[\"PIB_LAG1\"] = df_ml[\"PIB_PEN\"].shift(1)\n",
    "df_ml[\"PIB_LAG2\"] = df_ml[\"PIB_PEN\"].shift(2)\n",
    "df_ml[\"PIB_LAG3\"] = df_ml[\"PIB_PEN\"].shift(3)\n",
    "\n",
    "# Eliminamos filas con NaN (por los rezagos)\n",
    "df_ml = df_ml.dropna()\n",
    "\n",
    "display(df_ml.head())\n"
   ]
  },
  {
   "cell_type": "code",
   "execution_count": 0,
   "metadata": {
    "application/vnd.databricks.v1+cell": {
     "cellMetadata": {
      "byteLimit": 2048000,
      "rowLimit": 10000
     },
     "inputWidgets": {},
     "nuid": "682827fa-89d4-4470-ba30-684ebbe187eb",
     "showTitle": false,
     "tableResultSettingsMap": {},
     "title": ""
    }
   },
   "outputs": [],
   "source": [
    "# Si no tienes base, puedes usar la \"default\"\n",
    "spark.sql(\"\"\"\n",
    "    CREATE TABLE IF NOT EXISTS default.pib_bcrp_lags (\n",
    "        date TIMESTAMP,\n",
    "        PIB_PEN DOUBLE,\n",
    "        PIB_LAG1 DOUBLE,\n",
    "        PIB_LAG2 DOUBLE,\n",
    "        PIB_LAG3 DOUBLE\n",
    "    )\n",
    "    USING DELTA\n",
    "\"\"\")\n",
    "\n",
    "print(\"✅ Tabla Delta 'default.pib_bcrp_lags' creada\")\n"
   ]
  },
  {
   "cell_type": "code",
   "execution_count": 0,
   "metadata": {
    "application/vnd.databricks.v1+cell": {
     "cellMetadata": {
      "byteLimit": 2048000,
      "rowLimit": 10000
     },
     "inputWidgets": {},
     "nuid": "75afe6e8-23e5-46b7-a4c6-38469080b568",
     "showTitle": false,
     "tableResultSettingsMap": {},
     "title": ""
    }
   },
   "outputs": [],
   "source": [
    "# Convertimos Pandas -> Spark\n",
    "spark_df = spark.createDataFrame(df_ml.reset_index())\n",
    "\n",
    "# Insertamos en la tabla (append si quieres versionado histórico)\n",
    "spark_df.write.insertInto(\"default.pib_bcrp_lags\", overwrite=True)\n",
    "\n",
    "print(\"✅ Datos insertados en la tabla Delta 'default.pib_bcrp_lags'\")\n"
   ]
  },
  {
   "cell_type": "code",
   "execution_count": 0,
   "metadata": {
    "application/vnd.databricks.v1+cell": {
     "cellMetadata": {
      "byteLimit": 2048000,
      "rowLimit": 10000
     },
     "inputWidgets": {},
     "nuid": "2901c29c-8444-4cf8-b5f6-f8aa6c3cef25",
     "showTitle": false,
     "tableResultSettingsMap": {},
     "title": ""
    }
   },
   "outputs": [],
   "source": [
    "df_delta = spark.read.table(\"default.pib_bcrp_lags\")\n",
    "df_delta.show(5)"
   ]
  },
  {
   "cell_type": "code",
   "execution_count": 0,
   "metadata": {
    "application/vnd.databricks.v1+cell": {
     "cellMetadata": {
      "byteLimit": 2048000,
      "rowLimit": 10000
     },
     "inputWidgets": {},
     "nuid": "81fb9e03-1301-405d-89e2-4ac6d326c222",
     "showTitle": false,
     "tableResultSettingsMap": {},
     "title": ""
    }
   },
   "outputs": [],
   "source": [
    "# Variables predictoras y target\n",
    "X = df_ml[[\"PIB_LAG1\", \"PIB_LAG2\", \"PIB_LAG3\"]]\n",
    "y = df_ml[\"PIB_PEN\"]\n",
    "\n",
    "# Split en train/test\n",
    "X_train, X_test, y_train, y_test = train_test_split(X, y, shuffle=False, test_size=0.2)\n",
    "\n",
    "# Entrenamiento con regresión lineal\n",
    "model = LinearRegression()\n",
    "model.fit(X_train, y_train)\n",
    "\n",
    "# Predicciones\n",
    "y_pred = model.predict(X_test)\n",
    "\n",
    "# Métricas\n",
    "mse = mean_squared_error(y_test, y_pred)\n",
    "r2 = r2_score(y_test, y_pred)\n",
    "\n",
    "print(f\"RMSE: {mse**0.5:.2f}\")\n",
    "print(f\"R2: {r2:.4f}\")\n"
   ]
  },
  {
   "cell_type": "code",
   "execution_count": 0,
   "metadata": {
    "application/vnd.databricks.v1+cell": {
     "cellMetadata": {
      "byteLimit": 2048000,
      "rowLimit": 10000
     },
     "inputWidgets": {},
     "nuid": "19f88dfa-7d1a-4519-8f27-8f5c8f0a2736",
     "showTitle": false,
     "tableResultSettingsMap": {},
     "title": ""
    }
   },
   "outputs": [],
   "source": [
    "mlflow.set_experiment(\"/Users/2501350@esan.edu.pe/PIB_BCRP\")\n",
    "\n",
    "with mlflow.start_run():\n",
    "    mlflow.log_param(\"lags\", 3)\n",
    "    mlflow.log_metric(\"rmse\", mse**0.5)\n",
    "    mlflow.log_metric(\"r2\", r2)\n",
    "    \n",
    "    # Guardar el modelo\n",
    "    mlflow.sklearn.log_model(model, \"PIB_model\")\n",
    "\n",
    "print(\"✅ Modelo registrado en MLflow\")\n"
   ]
  },
  {
   "cell_type": "code",
   "execution_count": 0,
   "metadata": {
    "application/vnd.databricks.v1+cell": {
     "cellMetadata": {
      "byteLimit": 2048000,
      "rowLimit": 10000
     },
     "inputWidgets": {},
     "nuid": "232dcda1-b4d2-4b64-8081-d6c47e0c42b2",
     "showTitle": false,
     "tableResultSettingsMap": {},
     "title": ""
    }
   },
   "outputs": [],
   "source": [
    "import mlflow\n",
    "import mlflow.sklearn\n",
    "from mlflow.models.signature import infer_signature\n",
    "\n",
    "mlflow.set_experiment(\"/Users/2501350@esan.edu.pe/PIB_BCRP\")\n",
    "\n",
    "# Inferimos la firma del modelo (entrada y salida)\n",
    "signature = infer_signature(X_test, y_pred)\n",
    "\n",
    "with mlflow.start_run():\n",
    "    mlflow.log_param(\"lags\", 3)\n",
    "    mlflow.log_metric(\"rmse\", mse**0.5)\n",
    "    mlflow.log_metric(\"r2\", r2)\n",
    "    \n",
    "    # Guardamos el modelo con signature\n",
    "    mlflow.sklearn.log_model(\n",
    "        sk_model=model,\n",
    "        artifact_path=\"PIB_model\",\n",
    "        signature=signature,\n",
    "        input_example=X_test.iloc[:5]  # opcional: muestra de entrada\n",
    "    )\n",
    "mlflow.end_run()\n",
    "print(\"✅ Modelo registrado en MLflow con signature\")\n"
   ]
  },
  {
   "cell_type": "markdown",
   "metadata": {
    "application/vnd.databricks.v1+cell": {
     "cellMetadata": {
      "byteLimit": 2048000,
      "rowLimit": 10000
     },
     "inputWidgets": {},
     "nuid": "8be0e525-3421-465c-8e75-fef57a105278",
     "showTitle": false,
     "tableResultSettingsMap": {},
     "title": ""
    }
   },
   "source": [
    "### REGISTRANDO EL MODELO"
   ]
  },
  {
   "cell_type": "code",
   "execution_count": 0,
   "metadata": {
    "application/vnd.databricks.v1+cell": {
     "cellMetadata": {
      "byteLimit": 2048000,
      "rowLimit": 10000
     },
     "inputWidgets": {},
     "nuid": "88586b23-748a-420e-b69c-d2ff3de4a578",
     "showTitle": false,
     "tableResultSettingsMap": {},
     "title": ""
    }
   },
   "outputs": [],
   "source": [
    "import mlflow\n",
    "\n",
    "experiments = mlflow.search_experiments()\n",
    "\n",
    "for exp in experiments:\n",
    "    print(f'Nombre: {exp.name}, ID: {exp.experiment_id}')"
   ]
  },
  {
   "cell_type": "code",
   "execution_count": 0,
   "metadata": {
    "application/vnd.databricks.v1+cell": {
     "cellMetadata": {
      "byteLimit": 2048000,
      "rowLimit": 10000
     },
     "inputWidgets": {},
     "nuid": "b6b01eaa-c2e9-4ac4-878f-c521031ce8c7",
     "showTitle": false,
     "tableResultSettingsMap": {},
     "title": ""
    }
   },
   "outputs": [],
   "source": [
    "experiment_id = exp = experiments[0].experiment_id\n",
    "print(experiment_id)"
   ]
  },
  {
   "cell_type": "code",
   "execution_count": 0,
   "metadata": {
    "application/vnd.databricks.v1+cell": {
     "cellMetadata": {
      "byteLimit": 2048000,
      "rowLimit": 10000
     },
     "inputWidgets": {},
     "nuid": "baf3d428-58f1-4809-b33c-e26fa653b516",
     "showTitle": false,
     "tableResultSettingsMap": {},
     "title": ""
    }
   },
   "outputs": [],
   "source": [
    "import mlflow\n",
    "\n",
    "runs = mlflow.search_runs(experiment_ids=[experiment_id], order_by=[\"start_time DESC\"])\n",
    "\n",
    "if not runs.empty:\n",
    "    latest_run = runs.iloc[0][\"run_id\"]\n",
    "    print(f\"Ultimo run_id: {latest_run}\")\n",
    "else:\n",
    "    print(\"No hay ejecuciones en este experimiento.\")"
   ]
  },
  {
   "cell_type": "code",
   "execution_count": 0,
   "metadata": {
    "application/vnd.databricks.v1+cell": {
     "cellMetadata": {
      "byteLimit": 2048000,
      "rowLimit": 10000
     },
     "inputWidgets": {},
     "nuid": "5d176a4d-9d79-4822-9d40-0f5014e3e91a",
     "showTitle": false,
     "tableResultSettingsMap": {},
     "title": ""
    }
   },
   "outputs": [],
   "source": [
    "run_id = latest_run\n",
    "model_name = 'PIB_model'\n",
    "\n",
    "mlflow.register_model(\n",
    "    model_uri=f\"runs:/{run_id}/PIB_model\",\n",
    "    name=model_name\n",
    ")"
   ]
  },
  {
   "cell_type": "markdown",
   "metadata": {
    "application/vnd.databricks.v1+cell": {
     "cellMetadata": {
      "byteLimit": 2048000,
      "rowLimit": 10000
     },
     "inputWidgets": {},
     "nuid": "46ddb8e8-7218-4639-a51b-b38713a50a8c",
     "showTitle": false,
     "tableResultSettingsMap": {},
     "title": ""
    }
   },
   "source": [
    "### PROBANDO EL MODELO"
   ]
  },
  {
   "cell_type": "code",
   "execution_count": 0,
   "metadata": {
    "application/vnd.databricks.v1+cell": {
     "cellMetadata": {
      "byteLimit": 2048000,
      "rowLimit": 10000
     },
     "inputWidgets": {},
     "nuid": "f96d9e4b-40c0-40a0-a129-621547df8c20",
     "showTitle": false,
     "tableResultSettingsMap": {},
     "title": ""
    }
   },
   "outputs": [],
   "source": [
    "# Cargar datos de la tabla Delta\n",
    "df_delta = spark.read.table(\"default.pib_bcrp_lags\").toPandas()\n",
    "\n",
    "# Separar variables predictoras (rezagos) y target\n",
    "X_test = df_delta[[\"PIB_LAG1\", \"PIB_LAG2\", \"PIB_LAG3\"]]\n",
    "y_true = df_delta[\"PIB_PEN\"]\n"
   ]
  },
  {
   "cell_type": "code",
   "execution_count": 0,
   "metadata": {
    "application/vnd.databricks.v1+cell": {
     "cellMetadata": {
      "byteLimit": 2048000,
      "rowLimit": 10000
     },
     "inputWidgets": {},
     "nuid": "1953300a-dc14-4f34-b7f5-2a7ee53d0582",
     "showTitle": false,
     "tableResultSettingsMap": {},
     "title": ""
    }
   },
   "outputs": [],
   "source": [
    "import mlflow.sklearn\n",
    "\n",
    "# Cargar el último modelo registrado\n",
    "model_uri = \"models:/PIB_model/1\"   # nombre:version\n",
    "model = mlflow.sklearn.load_model(model_uri)\n"
   ]
  },
  {
   "cell_type": "code",
   "execution_count": 0,
   "metadata": {
    "application/vnd.databricks.v1+cell": {
     "cellMetadata": {
      "byteLimit": 2048000,
      "rowLimit": 10000
     },
     "inputWidgets": {},
     "nuid": "ae98f19a-db2f-4439-be5b-9edc2f7aaae9",
     "showTitle": false,
     "tableResultSettingsMap": {},
     "title": ""
    }
   },
   "outputs": [],
   "source": [
    "# Predicciones\n",
    "y_pred = model.predict(X_test)\n",
    "\n",
    "# Comparación real vs predicho\n",
    "resultados = pd.DataFrame({\n",
    "    \"Fecha\": df_delta[\"date\"],\n",
    "    \"PIB_Real\": y_true,\n",
    "    \"PIB_Predicho\": y_pred\n",
    "})\n",
    "\n",
    "print(\"✅ Resultados de prueba del modelo:\")\n",
    "print(resultados.tail(10))  # últimos 10 registros\n"
   ]
  },
  {
   "cell_type": "code",
   "execution_count": 0,
   "metadata": {
    "application/vnd.databricks.v1+cell": {
     "cellMetadata": {
      "byteLimit": 2048000,
      "rowLimit": 10000
     },
     "inputWidgets": {},
     "nuid": "c2aea967-e4bd-433e-8db5-f3ca7fb308aa",
     "showTitle": false,
     "tableResultSettingsMap": {},
     "title": ""
    }
   },
   "outputs": [],
   "source": [
    "import matplotlib.pyplot as plt\n",
    "\n",
    "plt.figure(figsize=(12,6))\n",
    "plt.plot(resultados[\"Fecha\"], resultados[\"PIB_Real\"], label=\"PIB Real\", color=\"blue\")\n",
    "plt.plot(resultados[\"Fecha\"], resultados[\"PIB_Predicho\"], label=\"PIB Predicho\", color=\"red\", linestyle=\"--\")\n",
    "plt.title(\"Comparación: PIB Real vs Predicho\")\n",
    "plt.xlabel(\"Fecha\")\n",
    "plt.ylabel(\"PIB (millones S/)\")\n",
    "plt.legend()\n",
    "plt.show()\n"
   ]
  }
 ],
 "metadata": {
  "application/vnd.databricks.v1+notebook": {
   "computePreferences": {
    "hardware": {
     "accelerator": null,
     "gpuPoolId": null,
     "memory": null
    }
   },
   "dashboards": [],
   "environmentMetadata": {
    "base_environment": "",
    "environment_version": "3"
   },
   "inputWidgetPreferences": null,
   "language": "python",
   "notebookMetadata": {
    "pythonIndentUnit": 4
   },
   "notebookName": "series_economicas_peru",
   "widgets": {}
  },
  "language_info": {
   "name": "python"
  }
 },
 "nbformat": 4,
 "nbformat_minor": 0
}
